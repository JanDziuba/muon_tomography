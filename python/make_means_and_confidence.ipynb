{
 "cells": [
  {
   "cell_type": "code",
   "execution_count": 1,
   "metadata": {},
   "outputs": [],
   "source": [
    "import pandas as pd\n",
    "import numpy as np\n",
    "import matplotlib.pyplot as plt\n",
    "import glob\n",
    "import os\n",
    "import re\n",
    "from tqdm import tqdm"
   ]
  },
  {
   "cell_type": "code",
   "execution_count": 2,
   "metadata": {},
   "outputs": [],
   "source": [
    "def get_mean_angle_and_confidence_interval(filename):\n",
    "    data = pd.read_csv(filename, header=None)\n",
    "    mean_angle = (data.iloc[:, 1:].sum(axis=1) / data[0]).fillna(0)\n",
    "\n",
    "    confidence_interval = np.sqrt([((mean_angle[i] - data.iloc[i, 1:data.iloc[i, 0]+1])**2).sum() \n",
    "                                   / data.iloc[i, 0] for i in range(len(data))])\n",
    "    \n",
    "    max_interval = np.nanmax(confidence_interval)\n",
    "    # if data.iloc[i, 0] == 1, then set confidence interval to max_interval\n",
    "    confidence_interval = np.where(data[0] == 1, max_interval, confidence_interval)\n",
    "\n",
    "    # nan means 0 samples, so we set the confidence interval to be 10 times the max interval\n",
    "    confidence_interval = np.nan_to_num(confidence_interval, nan=max_interval*10)\n",
    "\n",
    "    confidence_interval = pd.Series(confidence_interval)\n",
    "\n",
    "    return mean_angle, confidence_interval"
   ]
  },
  {
   "cell_type": "code",
   "execution_count": 3,
   "metadata": {},
   "outputs": [],
   "source": [
    "# get data\n",
    "train_data_files = glob.glob(os.path.join(\"../data/train_thetas/\", \"*.csv\"))\n",
    "train_data_files.sort(key=lambda f: int(re.sub('\\D', '', f)))"
   ]
  },
  {
   "cell_type": "code",
   "execution_count": 4,
   "metadata": {},
   "outputs": [
    {
     "name": "stderr",
     "output_type": "stream",
     "text": [
      "  0%|          | 0/15000 [00:00<?, ?it/s]"
     ]
    },
    {
     "name": "stderr",
     "output_type": "stream",
     "text": [
      "  7%|▋         | 1051/15000 [07:47<1:42:05,  2.28it/s]/tmp/ipykernel_73856/260880286.py:5: RuntimeWarning: invalid value encountered in double_scalars\n",
      "  confidence_interval = np.sqrt([((mean_angle[i] - data.iloc[i, 1:data.iloc[i, 0]+1])**2).sum()\n",
      " 11%|█▏        | 1704/15000 [12:37<1:38:50,  2.24it/s]/tmp/ipykernel_73856/260880286.py:5: RuntimeWarning: invalid value encountered in double_scalars\n",
      "  confidence_interval = np.sqrt([((mean_angle[i] - data.iloc[i, 1:data.iloc[i, 0]+1])**2).sum()\n",
      " 12%|█▏        | 1730/15000 [12:48<1:39:06,  2.23it/s]/tmp/ipykernel_73856/260880286.py:5: RuntimeWarning: invalid value encountered in double_scalars\n",
      "  confidence_interval = np.sqrt([((mean_angle[i] - data.iloc[i, 1:data.iloc[i, 0]+1])**2).sum()\n",
      " 13%|█▎        | 1993/15000 [14:46<1:37:03,  2.23it/s]/tmp/ipykernel_73856/260880286.py:5: RuntimeWarning: invalid value encountered in double_scalars\n",
      "  confidence_interval = np.sqrt([((mean_angle[i] - data.iloc[i, 1:data.iloc[i, 0]+1])**2).sum()\n",
      " 14%|█▍        | 2072/15000 [15:21<1:34:03,  2.29it/s]/tmp/ipykernel_73856/260880286.py:5: RuntimeWarning: invalid value encountered in double_scalars\n",
      "  confidence_interval = np.sqrt([((mean_angle[i] - data.iloc[i, 1:data.iloc[i, 0]+1])**2).sum()\n",
      " 19%|█▉        | 2845/15000 [21:15<1:32:26,  2.19it/s]/tmp/ipykernel_73856/260880286.py:5: RuntimeWarning: invalid value encountered in double_scalars\n",
      "  confidence_interval = np.sqrt([((mean_angle[i] - data.iloc[i, 1:data.iloc[i, 0]+1])**2).sum()\n",
      " 50%|█████     | 7548/15000 [56:52<54:24,  2.28it/s]  /tmp/ipykernel_73856/260880286.py:5: RuntimeWarning: invalid value encountered in double_scalars\n",
      "  confidence_interval = np.sqrt([((mean_angle[i] - data.iloc[i, 1:data.iloc[i, 0]+1])**2).sum()\n",
      " 57%|█████▋    | 8539/15000 [1:04:08<47:22,  2.27it/s]/tmp/ipykernel_73856/260880286.py:5: RuntimeWarning: invalid value encountered in double_scalars\n",
      "  confidence_interval = np.sqrt([((mean_angle[i] - data.iloc[i, 1:data.iloc[i, 0]+1])**2).sum()\n",
      " 60%|██████    | 9040/15000 [1:08:01<45:49,  2.17it/s]/tmp/ipykernel_73856/260880286.py:5: RuntimeWarning: invalid value encountered in double_scalars\n",
      "  confidence_interval = np.sqrt([((mean_angle[i] - data.iloc[i, 1:data.iloc[i, 0]+1])**2).sum()\n",
      " 75%|███████▌  | 11301/15000 [1:25:30<28:28,  2.16it/s]/tmp/ipykernel_73856/260880286.py:5: RuntimeWarning: invalid value encountered in double_scalars\n",
      "  confidence_interval = np.sqrt([((mean_angle[i] - data.iloc[i, 1:data.iloc[i, 0]+1])**2).sum()\n",
      " 82%|████████▏ | 12268/15000 [1:33:04<21:12,  2.15it/s]/tmp/ipykernel_73856/260880286.py:5: RuntimeWarning: invalid value encountered in double_scalars\n",
      "  confidence_interval = np.sqrt([((mean_angle[i] - data.iloc[i, 1:data.iloc[i, 0]+1])**2).sum()\n",
      " 82%|████████▏ | 12353/15000 [1:33:44<20:30,  2.15it/s]/tmp/ipykernel_73856/260880286.py:5: RuntimeWarning: invalid value encountered in double_scalars\n",
      "  confidence_interval = np.sqrt([((mean_angle[i] - data.iloc[i, 1:data.iloc[i, 0]+1])**2).sum()\n",
      " 86%|████████▋ | 12954/15000 [1:38:21<16:01,  2.13it/s]/tmp/ipykernel_73856/260880286.py:5: RuntimeWarning: invalid value encountered in double_scalars\n",
      "  confidence_interval = np.sqrt([((mean_angle[i] - data.iloc[i, 1:data.iloc[i, 0]+1])**2).sum()\n",
      " 93%|█████████▎| 14019/15000 [1:47:00<08:00,  2.04it/s]/tmp/ipykernel_73856/260880286.py:5: RuntimeWarning: invalid value encountered in double_scalars\n",
      "  confidence_interval = np.sqrt([((mean_angle[i] - data.iloc[i, 1:data.iloc[i, 0]+1])**2).sum()\n",
      "100%|██████████| 15000/15000 [1:54:57<00:00,  2.17it/s]\n"
     ]
    }
   ],
   "source": [
    "# save train_data_means_and_confidence as csv files\n",
    "output_folder = \"../data/train_thetas_means_and_confidence/\"\n",
    "if not os.path.exists(output_folder):\n",
    "    os.makedirs(output_folder)\n",
    "\n",
    "for i, file in enumerate(tqdm(train_data_files)):\n",
    "    mean, confidence = get_mean_angle_and_confidence_interval(file)\n",
    "    mean_and_confidence = pd.concat([mean, confidence], axis=1)\n",
    "    mean_and_confidence.to_csv(output_folder + str(i) + \".csv\", index=False, header=False)\n"
   ]
  },
  {
   "cell_type": "code",
   "execution_count": 5,
   "metadata": {},
   "outputs": [],
   "source": [
    "test_data_files = glob.glob(os.path.join(\"../data/test_thetas/\", \"*.csv\"))\n",
    "test_data_files.sort(key=lambda f: int(re.sub('\\D', '', f)))"
   ]
  },
  {
   "cell_type": "code",
   "execution_count": 6,
   "metadata": {},
   "outputs": [
    {
     "name": "stderr",
     "output_type": "stream",
     "text": [
      "  1%|▏         | 69/5000 [00:35<39:36,  2.08it/s] /tmp/ipykernel_73856/260880286.py:5: RuntimeWarning: invalid value encountered in double_scalars\n",
      "  confidence_interval = np.sqrt([((mean_angle[i] - data.iloc[i, 1:data.iloc[i, 0]+1])**2).sum()\n",
      " 26%|██▌       | 1287/5000 [10:20<29:11,  2.12it/s]/tmp/ipykernel_73856/260880286.py:5: RuntimeWarning: invalid value encountered in double_scalars\n",
      "  confidence_interval = np.sqrt([((mean_angle[i] - data.iloc[i, 1:data.iloc[i, 0]+1])**2).sum()\n",
      " 26%|██▌       | 1288/5000 [10:20<29:12,  2.12it/s]/tmp/ipykernel_73856/260880286.py:5: RuntimeWarning: invalid value encountered in double_scalars\n",
      "  confidence_interval = np.sqrt([((mean_angle[i] - data.iloc[i, 1:data.iloc[i, 0]+1])**2).sum()\n",
      " 36%|███▌      | 1811/5000 [14:28<24:53,  2.14it/s]/tmp/ipykernel_73856/260880286.py:5: RuntimeWarning: invalid value encountered in double_scalars\n",
      "  confidence_interval = np.sqrt([((mean_angle[i] - data.iloc[i, 1:data.iloc[i, 0]+1])**2).sum()\n",
      " 67%|██████▋   | 3360/5000 [26:41<12:45,  2.14it/s]/tmp/ipykernel_73856/260880286.py:5: RuntimeWarning: invalid value encountered in double_scalars\n",
      "  confidence_interval = np.sqrt([((mean_angle[i] - data.iloc[i, 1:data.iloc[i, 0]+1])**2).sum()\n",
      " 83%|████████▎ | 4166/5000 [33:00<06:26,  2.16it/s]/tmp/ipykernel_73856/260880286.py:5: RuntimeWarning: invalid value encountered in double_scalars\n",
      "  confidence_interval = np.sqrt([((mean_angle[i] - data.iloc[i, 1:data.iloc[i, 0]+1])**2).sum()\n",
      " 95%|█████████▌| 4774/5000 [37:45<01:46,  2.13it/s]/tmp/ipykernel_73856/260880286.py:5: RuntimeWarning: invalid value encountered in double_scalars\n",
      "  confidence_interval = np.sqrt([((mean_angle[i] - data.iloc[i, 1:data.iloc[i, 0]+1])**2).sum()\n",
      "100%|██████████| 5000/5000 [39:32<00:00,  2.11it/s]\n"
     ]
    }
   ],
   "source": [
    "# save test_data_means_and_confidence as csv files\n",
    "output_folder = \"../data/test_thetas_means_and_confidence/\"\n",
    "if not os.path.exists(output_folder):\n",
    "    os.makedirs(output_folder)\n",
    "\n",
    "for i, file in enumerate(tqdm(test_data_files)):\n",
    "    mean, confidence = get_mean_angle_and_confidence_interval(file)\n",
    "    mean_and_confidence = pd.concat([mean, confidence], axis=1)\n",
    "    mean_and_confidence.to_csv(output_folder + str(i) + \".csv\", index=False, header=False)"
   ]
  },
  {
   "cell_type": "code",
   "execution_count": null,
   "metadata": {},
   "outputs": [],
   "source": []
  },
  {
   "cell_type": "code",
   "execution_count": null,
   "metadata": {},
   "outputs": [],
   "source": []
  },
  {
   "cell_type": "code",
   "execution_count": null,
   "metadata": {},
   "outputs": [],
   "source": []
  }
 ],
 "metadata": {
  "kernelspec": {
   "display_name": "Python 3",
   "language": "python",
   "name": "python3"
  },
  "language_info": {
   "codemirror_mode": {
    "name": "ipython",
    "version": 3
   },
   "file_extension": ".py",
   "mimetype": "text/x-python",
   "name": "python",
   "nbconvert_exporter": "python",
   "pygments_lexer": "ipython3",
   "version": "3.10.6"
  },
  "orig_nbformat": 4
 },
 "nbformat": 4,
 "nbformat_minor": 2
}
