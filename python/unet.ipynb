{
 "cells": [
  {
   "cell_type": "code",
   "execution_count": 1,
   "metadata": {},
   "outputs": [
    {
     "name": "stderr",
     "output_type": "stream",
     "text": [
      "/home/jan/.local/lib/python3.10/site-packages/tqdm/auto.py:22: TqdmWarning: IProgress not found. Please update jupyter and ipywidgets. See https://ipywidgets.readthedocs.io/en/stable/user_install.html\n",
      "  from .autonotebook import tqdm as notebook_tqdm\n"
     ]
    }
   ],
   "source": [
    "import pandas as pd\n",
    "import numpy as np\n",
    "\n",
    "import re\n",
    "import os\n",
    "import glob\n",
    "\n",
    "from sklearn.model_selection import train_test_split\n",
    "\n",
    "import torch\n",
    "import torch.nn as nn\n",
    "import torchvision.transforms.functional as TF\n",
    "from torchvision import transforms\n",
    "\n",
    "from torch.utils.data import Dataset\n",
    "\n",
    "from tqdm import tqdm\n",
    "import torch.optim as optim\n",
    "\n",
    "from torch.utils.data import DataLoader\n",
    "\n",
    "from focal_loss.focal_loss import FocalLoss\n",
    "\n",
    "import matplotlib.pyplot as plt"
   ]
  },
  {
   "cell_type": "code",
   "execution_count": 2,
   "metadata": {},
   "outputs": [],
   "source": [
    "# get data\n",
    "# train_data_files = glob.glob(os.path.join(\"../data/train_thetas_means_and_confidence/\", \"*.csv\"))\n",
    "train_data_files = glob.glob(os.path.join(\"../data/train_thetas/\", \"*.csv\"))\n",
    "train_data_files.sort(key=lambda f: int(re.sub('\\D', '', f)))\n",
    "train_data = [torch.from_numpy(pd.read_csv(f, header=None, sep=',').to_numpy().flatten(order=\"F\").reshape(2, 40, 40)).float()\n",
    "               for f in train_data_files]# shape 15000 * (2, 40, 40)\n",
    "\n",
    "target_train_files = glob.glob(os.path.join(\"../data/training_ground_truth_files\", \"*_ground\"))\n",
    "target_train_files.sort(key=lambda f: int(re.sub('\\D', '', f)))\n",
    "target_train = [torch.from_numpy(pd.read_csv(f, header=None, sep=' ').to_numpy()).long()\n",
    "                 for f in target_train_files] # shape 15000 * (40, 40)\n",
    "\n",
    "# test_data_files = glob.glob(os.path.join(\"../data/test_thetas_means_and_confidence/\", \"*.csv\"))\n",
    "test_data_files = glob.glob(os.path.join(\"../data/test_thetas/\", \"*.csv\"))\n",
    "test_data_files.sort(key=lambda f: int(re.sub('\\D', '', f)))\n",
    "test_data = [torch.from_numpy(pd.read_csv(f, header=None, sep=',').to_numpy().flatten(order=\"F\").reshape(2, 40, 40)).float()\n",
    "               for f in test_data_files]# shape 15000 * (2, 40, 40)"
   ]
  },
  {
   "cell_type": "code",
   "execution_count": 3,
   "metadata": {},
   "outputs": [
    {
     "name": "stdout",
     "output_type": "stream",
     "text": [
      "train_data shape:  15000\n",
      "target_train shape:  15000\n"
     ]
    }
   ],
   "source": [
    "print(\"train_data shape: \", len(train_data))\n",
    "print(\"target_train shape: \", len(target_train))"
   ]
  },
  {
   "cell_type": "code",
   "execution_count": 4,
   "metadata": {},
   "outputs": [],
   "source": [
    "# split train_data into train and validation\n",
    "X_train, X_val, y_train, y_val = train_test_split(train_data, target_train, test_size=0.2, random_state=42)"
   ]
  },
  {
   "cell_type": "code",
   "execution_count": 5,
   "metadata": {},
   "outputs": [],
   "source": [
    "def aIOU(predictions, gt):\n",
    "    classes = np.unique(np.concatenate((np.unique(predictions), np.unique(gt))))\n",
    "    IoUs = np.zeros(len(classes) - 1)\n",
    "    i = 0\n",
    "    for cls in classes:\n",
    "        if cls != 0:\n",
    "            preds_tmp = predictions == cls\n",
    "            gt_tmp = gt == cls\n",
    "            IoUs[i] = np.sum(np.logical_and(preds_tmp, gt_tmp)) / np.sum(np.logical_or(preds_tmp, gt_tmp))\n",
    "            i += 1\n",
    "    return np.mean(IoUs)"
   ]
  },
  {
   "cell_type": "code",
   "execution_count": 6,
   "metadata": {},
   "outputs": [],
   "source": [
    "# UNET\n",
    "\n",
    "class DoubleConv(nn.Module):\n",
    "    def __init__(self, in_channels, out_channels):\n",
    "        super(DoubleConv, self).__init__()\n",
    "        self.conv = nn.Sequential(\n",
    "            nn.Conv2d(in_channels, out_channels, 3, 1, 1, bias=False),\n",
    "            nn.BatchNorm2d(out_channels),\n",
    "            nn.ReLU(inplace=True),\n",
    "            nn.Conv2d(out_channels, out_channels, 3, 1, 1, bias=False),\n",
    "            nn.BatchNorm2d(out_channels),\n",
    "            nn.ReLU(inplace=True),\n",
    "        )\n",
    "\n",
    "    def forward(self, x):\n",
    "        return self.conv(x)\n",
    "\n",
    "class UNET(nn.Module):\n",
    "    def __init__(\n",
    "            self, in_channels=2, out_channels=22, features=[40, 80, 160, 320],\n",
    "    ):\n",
    "        super(UNET, self).__init__()\n",
    "        self.ups = nn.ModuleList()\n",
    "        self.downs = nn.ModuleList()\n",
    "        self.pool = nn.MaxPool2d(kernel_size=2, stride=2)\n",
    "\n",
    "        # Down part of UNET\n",
    "        for feature in features:\n",
    "            self.downs.append(DoubleConv(in_channels, feature))\n",
    "            in_channels = feature\n",
    "\n",
    "        # Up part of UNET\n",
    "        for feature in reversed(features):\n",
    "            self.ups.append(\n",
    "                nn.ConvTranspose2d(\n",
    "                    feature*2, feature, kernel_size=2, stride=2,\n",
    "                )\n",
    "            )\n",
    "            self.ups.append(DoubleConv(feature*2, feature))\n",
    "\n",
    "        self.bottleneck = DoubleConv(features[-1], features[-1]*2)\n",
    "        self.final_conv = nn.Conv2d(features[0], out_channels, kernel_size=1)\n",
    "\n",
    "    def forward(self, x):\n",
    "        skip_connections = []\n",
    "\n",
    "        for down in self.downs:\n",
    "            x = down(x)\n",
    "            skip_connections.append(x)\n",
    "            x = self.pool(x)\n",
    "\n",
    "        x = self.bottleneck(x)\n",
    "        skip_connections = skip_connections[::-1]\n",
    "\n",
    "        for idx in range(0, len(self.ups), 2):\n",
    "            x = self.ups[idx](x)\n",
    "            skip_connection = skip_connections[idx//2]\n",
    "\n",
    "            if x.shape != skip_connection.shape:\n",
    "                x = TF.resize(x, size=skip_connection.shape[2:])\n",
    "\n",
    "            concat_skip = torch.cat((skip_connection, x), dim=1)\n",
    "            x = self.ups[idx+1](concat_skip)\n",
    "\n",
    "        x = self.final_conv(x)\n",
    "        x = torch.softmax(x, dim=1)\n",
    "        # permute to have channels as last dimension\n",
    "        return x.permute(0, 2, 3, 1).contiguous()"
   ]
  },
  {
   "cell_type": "code",
   "execution_count": 7,
   "metadata": {},
   "outputs": [],
   "source": [
    "#augment train data\n",
    "def augment_data(X, y):\n",
    "    X_aug = []\n",
    "    y_aug = []\n",
    "    for i in range(len(X)):\n",
    "        for rotation in range(4):\n",
    "            X_aug.append(torch.rot90(X[i], rotation, [1, 2]))\n",
    "            y_aug.append(torch.rot90(y[i], rotation, [0, 1]))\n",
    "            X_aug.append(torch.flip(torch.rot90(X[i], rotation, [1, 2]), [1]))\n",
    "            y_aug.append(torch.flip(torch.rot90(y[i], rotation, [0, 1]), [0]))\n",
    "    return X_aug, y_aug"
   ]
  },
  {
   "cell_type": "code",
   "execution_count": 8,
   "metadata": {},
   "outputs": [],
   "source": [
    "\n",
    "class MuonDataset(Dataset):\n",
    "    def __init__(self, x, y, transform):\n",
    "        self.transform = transform\n",
    "        self.x=x\n",
    "        self.y=y\n",
    "\n",
    "    def __len__(self):\n",
    "        return len(self.x)\n",
    "\n",
    "    def __getitem__(self, index):\n",
    "        x_idx = self.x[index]\n",
    "        y_idx = self.y[index]\n",
    "\n",
    "        if self.transform:\n",
    "                x_idx=self.transform(x_idx)\n",
    "        return x_idx, y_idx"
   ]
  },
  {
   "cell_type": "code",
   "execution_count": 9,
   "metadata": {},
   "outputs": [],
   "source": [
    "class MuonTestDataset(Dataset):\n",
    "    def __init__(self, x, transform):\n",
    "        self.transform = transform\n",
    "        self.x=x\n",
    "\n",
    "    def __len__(self):\n",
    "        return len(self.x)\n",
    "\n",
    "    def __getitem__(self, index):\n",
    "        x_idx = self.x[index]\n",
    "\n",
    "        if self.transform:\n",
    "                x_idx=self.transform(x_idx)\n",
    "        return x_idx"
   ]
  },
  {
   "cell_type": "code",
   "execution_count": 10,
   "metadata": {},
   "outputs": [],
   "source": [
    "# def save_checkpoint(state, filename=\"my_checkpoint.pth.tar\"):\n",
    "#     print(\"=> Saving checkpoint\")\n",
    "#     torch.save(state, filename)\n",
    "\n",
    "# def load_checkpoint(checkpoint, model):\n",
    "#     print(\"=> Loading checkpoint\")\n",
    "#     model.load_state_dict(checkpoint[\"state_dict\"])\n",
    "\n",
    "def get_loaders(\n",
    "    batch_size,\n",
    "    train_transforms,\n",
    "    val_transform,\n",
    "    num_workers=4,\n",
    "    pin_memory=True,\n",
    "):\n",
    "    X_train_aug, y_train_aug = augment_data(X_train, y_train)\n",
    "    train_ds = MuonDataset(\n",
    "        x=X_train_aug,\n",
    "        y=y_train_aug,\n",
    "        transform=train_transforms,\n",
    "    )\n",
    "\n",
    "    train_loader = DataLoader(\n",
    "        train_ds,\n",
    "        batch_size=batch_size,\n",
    "        num_workers=num_workers,\n",
    "        pin_memory=pin_memory,\n",
    "        shuffle=True,\n",
    "    )\n",
    "\n",
    "    val_ds = MuonDataset(\n",
    "        x=X_val,\n",
    "        y=y_val,\n",
    "        transform=val_transform,\n",
    "    )\n",
    "\n",
    "    val_loader = DataLoader(\n",
    "        val_ds,\n",
    "        batch_size=batch_size,\n",
    "        num_workers=num_workers,\n",
    "        pin_memory=pin_memory,\n",
    "        shuffle=False,\n",
    "    )\n",
    "\n",
    "    test_ds = MuonTestDataset(\n",
    "        x=test_data,\n",
    "        transform=val_transform,\n",
    "    )\n",
    "\n",
    "    test_loader = DataLoader(\n",
    "        test_ds,\n",
    "        batch_size=batch_size,\n",
    "        num_workers=num_workers,\n",
    "        pin_memory=pin_memory,\n",
    "        shuffle=False,\n",
    "    )\n",
    "\n",
    "    return train_loader, val_loader, test_loader"
   ]
  },
  {
   "cell_type": "code",
   "execution_count": 11,
   "metadata": {},
   "outputs": [
    {
     "name": "stdout",
     "output_type": "stream",
     "text": [
      "cuda\n"
     ]
    }
   ],
   "source": [
    "# Hyperparameters etc.\n",
    "LEARNING_RATE = 1e-4\n",
    "DEVICE = \"cuda\" if torch.cuda.is_available() else \"cpu\"\n",
    "# print device\n",
    "print(DEVICE)\n",
    "BATCH_SIZE = 32\n",
    "NUM_EPOCHS = 10\n",
    "NUM_WORKERS = 2\n",
    "PIN_MEMORY = True"
   ]
  },
  {
   "cell_type": "code",
   "execution_count": 12,
   "metadata": {},
   "outputs": [],
   "source": [
    "\n",
    "def train_function(data, model, optimizer, loss_fn):\n",
    "    print('Entering into train function')\n",
    "    loss_values = []    \n",
    "    data = tqdm(data)    \n",
    "    for index, (X, y) in enumerate(data):              \n",
    "        X, y = X.to(DEVICE), y.to(DEVICE)        \n",
    "        preds = model(X)  \n",
    "          \n",
    "        loss = loss_fn(preds, y)        \n",
    "        optimizer.zero_grad()        \n",
    "        loss.backward()        \n",
    "        optimizer.step()  \n",
    "   \n",
    "    return loss.item()"
   ]
  },
  {
   "cell_type": "code",
   "execution_count": 13,
   "metadata": {},
   "outputs": [
    {
     "name": "stdout",
     "output_type": "stream",
     "text": [
      "Entering into train function\n"
     ]
    },
    {
     "name": "stderr",
     "output_type": "stream",
     "text": [
      "100%|██████████| 3000/3000 [01:43<00:00, 29.00it/s]\n"
     ]
    },
    {
     "name": "stdout",
     "output_type": "stream",
     "text": [
      "Epoch 1/10, loss=0.07805368304252625\n",
      "Entering into train function\n"
     ]
    },
    {
     "name": "stderr",
     "output_type": "stream",
     "text": [
      "100%|██████████| 3000/3000 [02:08<00:00, 23.41it/s]\n"
     ]
    },
    {
     "name": "stdout",
     "output_type": "stream",
     "text": [
      "Epoch 2/10, loss=0.05576404184103012\n",
      "Entering into train function\n"
     ]
    },
    {
     "name": "stderr",
     "output_type": "stream",
     "text": [
      "100%|██████████| 3000/3000 [01:59<00:00, 25.03it/s]\n"
     ]
    },
    {
     "name": "stdout",
     "output_type": "stream",
     "text": [
      "Epoch 3/10, loss=0.04887166991829872\n",
      "Entering into train function\n"
     ]
    },
    {
     "name": "stderr",
     "output_type": "stream",
     "text": [
      "100%|██████████| 3000/3000 [02:05<00:00, 23.96it/s]\n"
     ]
    },
    {
     "name": "stdout",
     "output_type": "stream",
     "text": [
      "Epoch 4/10, loss=0.042611006647348404\n",
      "Entering into train function\n"
     ]
    },
    {
     "name": "stderr",
     "output_type": "stream",
     "text": [
      "100%|██████████| 3000/3000 [02:09<00:00, 23.25it/s]\n"
     ]
    },
    {
     "name": "stdout",
     "output_type": "stream",
     "text": [
      "Epoch 5/10, loss=0.05275992304086685\n",
      "Entering into train function\n"
     ]
    },
    {
     "name": "stderr",
     "output_type": "stream",
     "text": [
      "100%|██████████| 3000/3000 [02:11<00:00, 22.90it/s]\n"
     ]
    },
    {
     "name": "stdout",
     "output_type": "stream",
     "text": [
      "Epoch 6/10, loss=0.04036305099725723\n",
      "Entering into train function\n"
     ]
    },
    {
     "name": "stderr",
     "output_type": "stream",
     "text": [
      "100%|██████████| 3000/3000 [02:16<00:00, 21.98it/s]\n"
     ]
    },
    {
     "name": "stdout",
     "output_type": "stream",
     "text": [
      "Epoch 7/10, loss=0.04272269085049629\n",
      "Entering into train function\n"
     ]
    },
    {
     "name": "stderr",
     "output_type": "stream",
     "text": [
      "100%|██████████| 3000/3000 [02:11<00:00, 22.78it/s]\n"
     ]
    },
    {
     "name": "stdout",
     "output_type": "stream",
     "text": [
      "Epoch 8/10, loss=0.0449521541595459\n",
      "Entering into train function\n"
     ]
    },
    {
     "name": "stderr",
     "output_type": "stream",
     "text": [
      "100%|██████████| 3000/3000 [02:02<00:00, 24.53it/s]\n"
     ]
    },
    {
     "name": "stdout",
     "output_type": "stream",
     "text": [
      "Epoch 9/10, loss=0.04007495939731598\n",
      "Entering into train function\n"
     ]
    },
    {
     "name": "stderr",
     "output_type": "stream",
     "text": [
      "100%|██████████| 3000/3000 [02:01<00:00, 24.79it/s]"
     ]
    },
    {
     "name": "stdout",
     "output_type": "stream",
     "text": [
      "Epoch 10/10, loss=0.034071359783411026\n"
     ]
    },
    {
     "name": "stderr",
     "output_type": "stream",
     "text": [
      "\n"
     ]
    }
   ],
   "source": [
    "train_transforms = transforms.Compose(\n",
    "    [\n",
    "        transforms.Normalize(\n",
    "        mean=[0.0, 0.0],\n",
    "        std=[1.0, 1.0],\n",
    "        ),\n",
    "    ]\n",
    ")\n",
    "\n",
    "val_transforms = transforms.Compose(\n",
    "        [\n",
    "                transforms.Normalize(\n",
    "                mean=[0.0, 0.0],\n",
    "                std=[1.0, 1.0],\n",
    "                ),\n",
    "        ]\n",
    ")\n",
    "\n",
    "test_transforms = transforms.Compose(\n",
    "        [\n",
    "                transforms.Normalize(\n",
    "                mean=[0.0, 0.0],\n",
    "                std=[1.0, 1.0],\n",
    "                ),\n",
    "        ]\n",
    ")\n",
    "\n",
    "model = UNET(in_channels=2, out_channels=22).to(DEVICE)\n",
    "# loss_fn = nn.BCEWithLogitsLoss() # TODO maybe custom loss (this one has sigmoid build in)\n",
    "loss_fn = FocalLoss(gamma=2)\n",
    "# loss_fn = nn.BCELoss()\n",
    "optimizer = optim.Adam(model.parameters(), lr=LEARNING_RATE)\n",
    "\n",
    "train_loader, val_loader, test_loader = get_loaders(\n",
    "        BATCH_SIZE,\n",
    "        train_transforms,\n",
    "        val_transforms,\n",
    "        NUM_WORKERS,\n",
    "        PIN_MEMORY,\n",
    ")\n",
    "\n",
    "for epoch in range(NUM_EPOCHS):\n",
    "        loss = train_function(train_loader, model, optimizer, loss_fn)\n",
    "        print(f\"Epoch {epoch+1}/{NUM_EPOCHS}, loss={loss}\")"
   ]
  },
  {
   "cell_type": "code",
   "execution_count": 14,
   "metadata": {},
   "outputs": [],
   "source": [
    "def output_transform(output):\n",
    "    # change output to 1D tensor\n",
    "    # first pick max value for each pixel over channels\n",
    "    # then flatten to 1d\n",
    "    output = torch.argmax(output, dim=-1)\n",
    "    return output.flatten().cpu().numpy()\n"
   ]
  },
  {
   "cell_type": "code",
   "execution_count": 15,
   "metadata": {},
   "outputs": [],
   "source": [
    "# predict using model\n",
    "\n",
    "def eval():\n",
    "   # use val_loader\n",
    "   model.eval()\n",
    "   with torch.no_grad():\n",
    "         for batch_idx, (data, target) in enumerate(val_loader):\n",
    "            data, target = data.to(DEVICE), target.to(DEVICE)\n",
    "            output = model(data)\n",
    "            output = output_transform(output)\n",
    "            target = target.flatten().cpu().numpy()\n",
    "            aiou_list = []\n",
    "            aiou_list.append(aIOU(output, target))\n",
    "         aIou = np.mean(aiou_list)\n",
    "         print('IOU: ', aIou)"
   ]
  },
  {
   "cell_type": "code",
   "execution_count": 16,
   "metadata": {},
   "outputs": [
    {
     "name": "stdout",
     "output_type": "stream",
     "text": [
      "IOU:  0.4798030580573095\n"
     ]
    }
   ],
   "source": [
    "eval()"
   ]
  },
  {
   "cell_type": "code",
   "execution_count": 17,
   "metadata": {},
   "outputs": [],
   "source": [
    "def pred_test():\n",
    "    model.eval()\n",
    "    with torch.no_grad():\n",
    "        result = []\n",
    "        for batch_idx, (data) in enumerate(test_loader):\n",
    "            data = data.to(DEVICE)\n",
    "            output = model(data)\n",
    "            output = output_transform(output)\n",
    "            result.append(output)\n",
    "        return result"
   ]
  },
  {
   "cell_type": "code",
   "execution_count": 18,
   "metadata": {},
   "outputs": [
    {
     "name": "stdout",
     "output_type": "stream",
     "text": [
      "(51200,)\n"
     ]
    }
   ],
   "source": [
    "preds = pred_test()\n",
    "print(preds[0].shape)"
   ]
  },
  {
   "cell_type": "code",
   "execution_count": 19,
   "metadata": {},
   "outputs": [
    {
     "name": "stdout",
     "output_type": "stream",
     "text": [
      "(5000, 1600)\n"
     ]
    }
   ],
   "source": [
    "preds_out = np.concatenate(preds, axis=0).reshape(-1, 40, 40)\n",
    "preds_out = preds_out.transpose(0, 2, 1).reshape(-1, 1600) # permute so that y_values are consecutive\n",
    "print(preds_out.shape)"
   ]
  },
  {
   "cell_type": "code",
   "execution_count": 20,
   "metadata": {},
   "outputs": [],
   "source": [
    "# save preds_out to csv\n",
    "df = pd.DataFrame(preds_out)\n",
    "df.to_csv('isect_weight_line_mean_conf.csv', index=False, header=False)"
   ]
  },
  {
   "cell_type": "code",
   "execution_count": 21,
   "metadata": {},
   "outputs": [],
   "source": [
    "import matplotlib.pyplot as plt"
   ]
  },
  {
   "cell_type": "code",
   "execution_count": 22,
   "metadata": {},
   "outputs": [
    {
     "data": {
      "image/png": "[encoded data removed]",
      "text/plain": [
       "<Figure size 2000x2000 with 64 Axes>"
      ]
     },
     "metadata": {},
     "output_type": "display_data"
    }
   ],
   "source": [
    "preds_vis = preds_out.reshape(-1, 40, 40)[:64]\n",
    "\n",
    "fig, axes = plt.subplots(8, 8, figsize=(20, 20))\n",
    "for i, ax in enumerate(axes.flat):\n",
    "    ax.imshow(preds_vis[i], cmap='hot', interpolation='nearest')\n",
    "    # ax.set_title(random_files[i])\n",
    "\n",
    "plt.show()"
   ]
  }
 ],
 "metadata": {
  "kernelspec": {
   "display_name": "Python 3",
   "language": "python",
   "name": "python3"
  },
  "language_info": {
   "codemirror_mode": {
    "name": "ipython",
    "version": 3
   },
   "file_extension": ".py",
   "mimetype": "text/x-python",
   "name": "python",
   "nbconvert_exporter": "python",
   "pygments_lexer": "ipython3",
   "version": "3.10.6"
  },
  "orig_nbformat": 4
 },
 "nbformat": 4,
 "nbformat_minor": 2
}
