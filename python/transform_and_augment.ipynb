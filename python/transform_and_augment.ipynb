{
 "cells": [
  {
   "cell_type": "code",
   "execution_count": 1,
   "metadata": {},
   "outputs": [
    {
     "name": "stderr",
     "output_type": "stream",
     "text": [
      "/home/jan/.local/lib/python3.10/site-packages/tqdm/auto.py:22: TqdmWarning: IProgress not found. Please update jupyter and ipywidgets. See https://ipywidgets.readthedocs.io/en/stable/user_install.html\n",
      "  from .autonotebook import tqdm as notebook_tqdm\n"
     ]
    }
   ],
   "source": [
    "import pandas as pd\n",
    "import numpy as np\n",
    "\n",
    "import re\n",
    "import os\n",
    "import glob\n",
    "\n",
    "from sklearn.model_selection import train_test_split\n",
    "\n",
    "import torch\n",
    "from torchvision import transforms"
   ]
  },
  {
   "cell_type": "code",
   "execution_count": 2,
   "metadata": {},
   "outputs": [],
   "source": [
    "train_data_files = glob.glob(os.path.join(\"../data/train_thetas/\", \"*.csv\"))\n",
    "train_data_files.sort(key=lambda f: int(re.sub('\\D', '', f)))\n",
    "train_data = [torch.from_numpy(pd.read_csv(f, header=None, sep=',').to_numpy().flatten(order=\"F\").reshape(2, 40, 40)).float()\n",
    "               for f in train_data_files]# shape 15000 * (2, 40, 40)\n",
    "\n",
    "target_train_files = glob.glob(os.path.join(\"../data/training_ground_truth_files\", \"*_ground\"))\n",
    "target_train_files.sort(key=lambda f: int(re.sub('\\D', '', f)))\n",
    "target_train = [torch.from_numpy(pd.read_csv(f, header=None, sep=' ').to_numpy()).long()\n",
    "                 for f in target_train_files] # shape 15000 * (40, 40)\n",
    "\n",
    "test_data_files = glob.glob(os.path.join(\"../data/test_thetas/\", \"*.csv\"))\n",
    "test_data_files.sort(key=lambda f: int(re.sub('\\D', '', f)))\n",
    "test_data = [torch.from_numpy(pd.read_csv(f, header=None, sep=',').to_numpy().flatten(order=\"F\").reshape(2, 40, 40)).float()\n",
    "               for f in test_data_files]# shape 15000 * (2, 40, 40)"
   ]
  },
  {
   "cell_type": "code",
   "execution_count": 3,
   "metadata": {},
   "outputs": [
    {
     "name": "stdout",
     "output_type": "stream",
     "text": [
      "train_data shape:  15000\n",
      "target_train shape:  15000\n"
     ]
    }
   ],
   "source": [
    "print(\"train_data shape: \", len(train_data))\n",
    "print(\"target_train shape: \", len(target_train))"
   ]
  },
  {
   "cell_type": "code",
   "execution_count": 4,
   "metadata": {},
   "outputs": [],
   "source": [
    "# split train_data into train and validation\n",
    "X_train, X_val, y_train, y_val = train_test_split(train_data, target_train, test_size=0.2, random_state=42)"
   ]
  },
  {
   "cell_type": "code",
   "execution_count": 5,
   "metadata": {},
   "outputs": [],
   "source": [
    "def augment_rotate(X, y):\n",
    "    X_aug = []\n",
    "    y_aug = []\n",
    "    for i in range(len(X)):\n",
    "        for rotation in range(4):\n",
    "            X_aug.append(torch.rot90(X[i], rotation, [1, 2]))\n",
    "            y_aug.append(torch.rot90(y[i], rotation, [0, 1]))\n",
    "    return X_aug, y_aug\n",
    "\n",
    "\n",
    "def augment_flip(X, y):\n",
    "    X_aug = []\n",
    "    y_aug = []\n",
    "    for i in range(len(X)):\n",
    "        X_aug.append(X[i])\n",
    "        y_aug.append(y[i])\n",
    "        X_aug.append(torch.flip(X[i], [1]))\n",
    "        y_aug.append(torch.flip(y[i], [0]))\n",
    "    return X_aug, y_aug\n",
    "\n",
    "\n",
    "def augment_roll(X, y):\n",
    "    X_aug = []\n",
    "    y_aug = []\n",
    "    for i in range(len(X)):\n",
    "        for roll_x in range(-1, 2):\n",
    "            for roll_y in range(-1, 2):\n",
    "                X_aug.append(torch.roll(X[i], shifts=(roll_x, roll_y), dims=(1, 2)))\n",
    "                y_aug.append(torch.roll(y[i], shifts=(roll_x, roll_y), dims=(0, 1)))\n",
    "    return X_aug, y_aug\n",
    "\n",
    "\n",
    "def augment_data(X, y):\n",
    "    X_roll, y_roll = augment_roll(X, y)\n",
    "    X_roll_flip, y_roll_flip = augment_flip(X_roll, y_roll)\n",
    "    X_roll_flip_rotate, y_roll_flip_rotate = augment_rotate(X_roll_flip, y_roll_flip)\n",
    "    return X_roll_flip_rotate, y_roll_flip_rotate"
   ]
  },
  {
   "cell_type": "code",
   "execution_count": 6,
   "metadata": {},
   "outputs": [],
   "source": [
    "data_transforms = transforms.Compose(\n",
    "    [\n",
    "        transforms.Normalize(\n",
    "        mean=[0.0, 0.0],\n",
    "        std=[1.0, 1.0],\n",
    "        ),\n",
    "    ]\n",
    ")"
   ]
  },
  {
   "cell_type": "code",
   "execution_count": 7,
   "metadata": {},
   "outputs": [],
   "source": [
    "train_folder = \"../data/train/\"\n",
    "if not os.path.exists(train_folder):\n",
    "    os.makedirs(train_folder)\n",
    "\n",
    "val_folder = \"../data/val/\"\n",
    "if not os.path.exists(val_folder):\n",
    "    os.makedirs(val_folder)\n",
    "\n",
    "\n",
    "test_folder = \"../data/test/\"\n",
    "if not os.path.exists(test_folder):\n",
    "    os.makedirs(test_folder)"
   ]
  },
  {
   "cell_type": "code",
   "execution_count": 8,
   "metadata": {},
   "outputs": [],
   "source": [
    "for i in range(len(X_train)):\n",
    "    X_train[i] = data_transforms(X_train[i])\n",
    "    X_train_aug, y_train_aug = augment_data([X_train[i]], [y_train[i]])\n",
    "    aug_num = len(X_train_aug)\n",
    "    for j in range(aug_num):\n",
    "        torch.save(X_train_aug[j], train_folder + \"X\" + str(i*aug_num+j) + \".pt\")\n",
    "        torch.save(y_train_aug[j], train_folder + \"y\" + str(i*aug_num+j)  + \".pt\")"
   ]
  },
  {
   "cell_type": "code",
   "execution_count": null,
   "metadata": {},
   "outputs": [],
   "source": [
    "for i in range(len(X_val)):\n",
    "    X_val[i] = data_transforms(X_val[i])\n",
    "    torch.save(X_val[i], val_folder + \"X\" + str(i) + \".pt\")\n",
    "    torch.save(y_val[i], val_folder + \"y\" + str(i)  + \".pt\")"
   ]
  },
  {
   "cell_type": "code",
   "execution_count": null,
   "metadata": {},
   "outputs": [],
   "source": [
    "for i in range(len(test_data)):\n",
    "    test_data[i] = data_transforms(test_data[i])\n",
    "    torch.save(test_data[i], test_folder + \"X\" + str(i) + \".pt\")"
   ]
  },
  {
   "cell_type": "code",
   "execution_count": null,
   "metadata": {},
   "outputs": [],
   "source": []
  },
  {
   "cell_type": "code",
   "execution_count": null,
   "metadata": {},
   "outputs": [],
   "source": []
  },
  {
   "cell_type": "code",
   "execution_count": null,
   "metadata": {},
   "outputs": [],
   "source": []
  },
  {
   "cell_type": "code",
   "execution_count": null,
   "metadata": {},
   "outputs": [],
   "source": []
  },
  {
   "cell_type": "code",
   "execution_count": null,
   "metadata": {},
   "outputs": [],
   "source": []
  },
  {
   "cell_type": "code",
   "execution_count": null,
   "metadata": {},
   "outputs": [],
   "source": []
  },
  {
   "cell_type": "code",
   "execution_count": null,
   "metadata": {},
   "outputs": [],
   "source": []
  }
 ],
 "metadata": {
  "kernelspec": {
   "display_name": "Python 3",
   "language": "python",
   "name": "python3"
  },
  "language_info": {
   "codemirror_mode": {
    "name": "ipython",
    "version": 3
   },
   "file_extension": ".py",
   "mimetype": "text/x-python",
   "name": "python",
   "nbconvert_exporter": "python",
   "pygments_lexer": "ipython3",
   "version": "3.10.6"
  },
  "orig_nbformat": 4
 },
 "nbformat": 4,
 "nbformat_minor": 2
}
