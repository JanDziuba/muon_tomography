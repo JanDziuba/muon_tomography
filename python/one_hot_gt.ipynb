{
 "cells": [
  {
   "cell_type": "code",
   "execution_count": 1,
   "metadata": {},
   "outputs": [],
   "source": [
    "import pandas as pd\n",
    "import numpy as np\n",
    "import matplotlib.pyplot as plt\n",
    "import glob\n",
    "import os\n",
    "import re\n",
    "import random"
   ]
  },
  {
   "cell_type": "code",
   "execution_count": 3,
   "metadata": {},
   "outputs": [],
   "source": [
    "target_train_files = glob.glob(os.path.join(\"../data/training_ground_truth_files\", \"*_ground\"))\n",
    "target_train_files.sort(key=lambda f: int(re.sub('\\D', '', f)))\n",
    "target_train = [pd.read_csv(f, header=None, sep=' ', dtype=\"int8\").to_numpy().flatten() for f in target_train_files] # shape 15000 * (1600)"
   ]
  },
  {
   "cell_type": "code",
   "execution_count": 6,
   "metadata": {},
   "outputs": [],
   "source": [
    "# files in target_train contain 22 classes - numbers 0-21\n",
    "# files are arrays of shape (1600, 1)\n",
    "# one hot encode the classes so thast they are of shape (1600, 22)\n",
    "\n",
    "# one hot encode the classes\n",
    "def one_hot_encode(target_train):\n",
    "    one_hot_target_train = []\n",
    "    for i in range(len(target_train)):\n",
    "        one_hot_target_train.append(np.eye(22)[target_train[i]])\n",
    "    return one_hot_target_train\n",
    "\n",
    "one_hot_target_train = one_hot_encode(target_train)\n",
    "\n",
    "output_folder = \"../data/one_hot_gt/\"\n",
    "if not os.path.exists(output_folder):\n",
    "    os.makedirs(output_folder)\n",
    "\n",
    "# save the one hot encoded target_train to one_hot_gt folder as csv files\n",
    "for i in range(len(one_hot_target_train)):\n",
    "    np.savetxt(output_folder + str(i) + '_gt.csv', one_hot_target_train[i], delimiter=',', fmt='%d')"
   ]
  },
  {
   "cell_type": "code",
   "execution_count": null,
   "metadata": {},
   "outputs": [],
   "source": []
  },
  {
   "cell_type": "code",
   "execution_count": null,
   "metadata": {},
   "outputs": [],
   "source": []
  },
  {
   "cell_type": "code",
   "execution_count": null,
   "metadata": {},
   "outputs": [],
   "source": []
  },
  {
   "cell_type": "code",
   "execution_count": null,
   "metadata": {},
   "outputs": [],
   "source": []
  }
 ],
 "metadata": {
  "kernelspec": {
   "display_name": "Python 3",
   "language": "python",
   "name": "python3"
  },
  "language_info": {
   "codemirror_mode": {
    "name": "ipython",
    "version": 3
   },
   "file_extension": ".py",
   "mimetype": "text/x-python",
   "name": "python",
   "nbconvert_exporter": "python",
   "pygments_lexer": "ipython3",
   "version": "3.10.6"
  },
  "orig_nbformat": 4
 },
 "nbformat": 4,
 "nbformat_minor": 2
}
