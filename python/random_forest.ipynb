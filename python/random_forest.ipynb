{
 "cells": [
  {
   "cell_type": "code",
   "execution_count": 1,
   "metadata": {},
   "outputs": [
    {
     "name": "stderr",
     "output_type": "stream",
     "text": [
      "/home/jan/.local/lib/python3.10/site-packages/tqdm/auto.py:22: TqdmWarning: IProgress not found. Please update jupyter and ipywidgets. See https://ipywidgets.readthedocs.io/en/stable/user_install.html\n",
      "  from .autonotebook import tqdm as notebook_tqdm\n"
     ]
    }
   ],
   "source": [
    "import pandas as pd\n",
    "import numpy as np\n",
    "\n",
    "import re\n",
    "import os\n",
    "import glob\n",
    "import gc\n",
    "\n",
    "from sklearn.model_selection import train_test_split\n",
    "from sklearn.ensemble import RandomForestClassifier\n",
    "from sklearn.metrics import accuracy_score"
   ]
  },
  {
   "cell_type": "code",
   "execution_count": 2,
   "metadata": {},
   "outputs": [
    {
     "name": "stdout",
     "output_type": "stream",
     "text": [
      "(24000000, 11)\n",
      "(24000000,)\n"
     ]
    }
   ],
   "source": [
    "# get data\n",
    "train_data_files = glob.glob(os.path.join(\"../data/train_thetas/\", \"*.csv\"))\n",
    "train_data_files.sort(key=lambda f: int(re.sub('\\D', '', f)))\n",
    "train_data = pd.concat((pd.read_csv(f, header=None) for f in train_data_files), ignore_index=True) # shape (1600 * 15000, 11)\n",
    "\n",
    "# print train_data.shape\n",
    "print(train_data.shape)\n",
    "\n",
    "target_train_files = glob.glob(os.path.join(\"../data/training_ground_truth_files\", \"*_ground\"))\n",
    "target_train_files.sort(key=lambda f: int(re.sub('\\D', '', f)))\n",
    "target_train = pd.concat((pd.read_csv(f, header=None, sep=' ', dtype=\"int8\").stack() for f in target_train_files), ignore_index=True) # shape (1600 * 15000)\n",
    "\n",
    "# print target_train.shape\n",
    "print(target_train.shape)"
   ]
  },
  {
   "cell_type": "code",
   "execution_count": 3,
   "metadata": {},
   "outputs": [
    {
     "name": "stdout",
     "output_type": "stream",
     "text": [
      "<class 'pandas.core.frame.DataFrame'>\n"
     ]
    }
   ],
   "source": [
    "# split train_data into train and validation\n",
    "\n",
    "X_train, X_val, y_train, y_val = train_test_split(train_data, target_train, test_size=0.2, random_state=42)\n",
    "\n",
    "# print X_train data type\n",
    "print(type(X_train))"
   ]
  },
  {
   "cell_type": "code",
   "execution_count": 6,
   "metadata": {},
   "outputs": [
    {
     "ename": "RuntimeError",
     "evalue": "[enforce fail at alloc_cpu.cpp:75] err == 0. DefaultCPUAllocator: can't allocate memory: you tried to allocate 1474560000000000 bytes. Error code 12 (Cannot allocate memory)",
     "output_type": "error",
     "traceback": [
      "\u001b[0;31m---------------------------------------------------------------------------\u001b[0m",
      "\u001b[0;31mRuntimeError\u001b[0m                              Traceback (most recent call last)",
      "\u001b[1;32m/home/jan/Documents/Magisterka/c_test/my_tests.ipynb Cell 4\u001b[0m in \u001b[0;36m1\n\u001b[0;32m----> <a href='vscode-notebook-cell:/home/jan/Documents/Magisterka/c_test/my_tests.ipynb#X15sZmlsZQ%3D%3D?line=0'>1</a>\u001b[0m torch_x_train \u001b[39m=\u001b[39m torch\u001b[39m.\u001b[39;49mTensor(X_train)\n\u001b[1;32m      <a href='vscode-notebook-cell:/home/jan/Documents/Magisterka/c_test/my_tests.ipynb#X15sZmlsZQ%3D%3D?line=1'>2</a>\u001b[0m \u001b[39mprint\u001b[39m(\u001b[39mtype\u001b[39m(torch_x_train))\n",
      "\u001b[0;31mRuntimeError\u001b[0m: [enforce fail at alloc_cpu.cpp:75] err == 0. DefaultCPUAllocator: can't allocate memory: you tried to allocate 1474560000000000 bytes. Error code 12 (Cannot allocate memory)"
     ]
    }
   ],
   "source": [
    "torch_x_train = torch.Tensor(X_train)\n",
    "print(type(torch_x_train))"
   ]
  },
  {
   "cell_type": "code",
   "execution_count": null,
   "metadata": {},
   "outputs": [],
   "source": [
    "# predict using random forest\n",
    "\n",
    "clf = RandomForestClassifier(n_estimators=100, max_depth=2, random_state=0, n_jobs=-1)\n",
    "clf.fit(X_train, y_train)\n",
    "\n",
    "y_pred = clf.predict(X_val)\n",
    "\n",
    "print(f\"random forest accuracy: {accuracy_score(y_val, y_pred)}\")\n",
    "\n",
    "# random forest accuracy: 0.8926345833333333"
   ]
  },
  {
   "cell_type": "code",
   "execution_count": null,
   "metadata": {},
   "outputs": [],
   "source": [
    "def aIOU(predictions, gt):\n",
    "    classes = np.unique(np.concatenate((np.unique(predictions), np.unique(gt))))\n",
    "    IoUs = np.zeros(len(classes) - 1)\n",
    "    i = 0\n",
    "    for cls in classes:\n",
    "        if cls != 0:\n",
    "            preds_tmp = predictions == cls\n",
    "            gt_tmp = gt == cls\n",
    "            IoUs[i] = np.sum(np.logical_and(preds_tmp, gt_tmp)) / np.sum(np.logical_or(preds_tmp, gt_tmp))\n",
    "            i += 1\n",
    "    return np.mean(IoUs)"
   ]
  },
  {
   "cell_type": "code",
   "execution_count": null,
   "metadata": {},
   "outputs": [],
   "source": [
    "print(f\"random forest aIOU: {aIOU(y_val, y_pred)}\")\n",
    "\n",
    "# random forest aIOU: 0.005818729442472708"
   ]
  }
 ],
 "metadata": {
  "kernelspec": {
   "display_name": "Python 3",
   "language": "python",
   "name": "python3"
  },
  "language_info": {
   "codemirror_mode": {
    "name": "ipython",
    "version": 3
   },
   "file_extension": ".py",
   "mimetype": "text/x-python",
   "name": "python",
   "nbconvert_exporter": "python",
   "pygments_lexer": "ipython3",
   "version": "3.10.6"
  },
  "orig_nbformat": 4
 },
 "nbformat": 4,
 "nbformat_minor": 2
}
